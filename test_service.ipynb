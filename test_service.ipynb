{
 "cells": [
  {
   "cell_type": "code",
   "execution_count": 25,
   "id": "ee7154e6",
   "metadata": {},
   "outputs": [],
   "source": [
    "import requests"
   ]
  },
  {
   "cell_type": "code",
   "execution_count": 26,
   "id": "3ef8befc",
   "metadata": {},
   "outputs": [],
   "source": [
    "url = 'http://127.0.0.1:9696/predict'"
   ]
  },
  {
   "cell_type": "code",
   "execution_count": 27,
   "id": "510dcbf6",
   "metadata": {},
   "outputs": [],
   "source": [
    "analysis ={\n",
    "    \"age\": 20,\n",
    "    \"sex\": 0,\n",
    "    \"cp\": 3,\n",
    "    \"trtbps\":234,\n",
    "    \"chol\":0,\n",
    "    \"fbs\":1,\n",
    "    \"restecg\":0,\n",
    "    \"thalachh\":0,\n",
    "    \"exng\":0,\n",
    "    \"oldpeak\":23,\n",
    "    \"slp\":0,\n",
    "    \"caa\":0,\n",
    "    \"thall\":1\n",
    "}"
   ]
  },
  {
   "cell_type": "code",
   "execution_count": 28,
   "id": "3e830ab3",
   "metadata": {},
   "outputs": [],
   "source": [
    "cols = ['age', 'sex', 'cp', 'trtbps', 'chol', 'fbs', 'restecg', 'thalachh',\n",
    "       'exng', 'oldpeak', 'slp', 'caa', 'thall', 'output']"
   ]
  },
  {
   "cell_type": "code",
   "execution_count": 29,
   "id": "95c1f969",
   "metadata": {},
   "outputs": [
    {
     "name": "stdout",
     "output_type": "stream",
     "text": [
      "There is a high risk of heart attack - 61.0 procents\n"
     ]
    }
   ],
   "source": [
    "prediction = requests.post(url, json=analysis).json()\n",
    "if prediction['attack_probability'] > 0.4:\n",
    "    print(f\"There is a high risk of heart attack - {round(prediction['attack_probability'], 2)*100} procents\")\n",
    "elif prediction['attack_probability'] <=0.4 & prediction['attack_probability'] > 0.15:\n",
    "    print(f\"The risk of heart attack is {round(prediction['attack_probability'], 2)*100} procents\")\n",
    "else:\n",
    "    print(f\"The risk of heart attack is not high - {round(prediction['attack_probability'], 2)*100} procents\")"
   ]
  },
  {
   "cell_type": "code",
   "execution_count": null,
   "id": "a8bed386",
   "metadata": {},
   "outputs": [],
   "source": []
  }
 ],
 "metadata": {
  "kernelspec": {
   "display_name": "Python 3 (ipykernel)",
   "language": "python",
   "name": "python3"
  },
  "language_info": {
   "codemirror_mode": {
    "name": "ipython",
    "version": 3
   },
   "file_extension": ".py",
   "mimetype": "text/x-python",
   "name": "python",
   "nbconvert_exporter": "python",
   "pygments_lexer": "ipython3",
   "version": "3.9.12"
  }
 },
 "nbformat": 4,
 "nbformat_minor": 5
}
