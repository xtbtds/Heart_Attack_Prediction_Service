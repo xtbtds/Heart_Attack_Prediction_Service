{
 "cells": [
  {
   "cell_type": "code",
   "execution_count": 1,
   "id": "cf62225a",
   "metadata": {},
   "outputs": [],
   "source": [
    "import numpy as np \n",
    "import pandas as pd \n",
    "import matplotlib.pyplot as plt\n"
   ]
  },
  {
   "cell_type": "code",
   "execution_count": 11,
   "id": "fd9cc361",
   "metadata": {},
   "outputs": [
    {
     "name": "stdout",
     "output_type": "stream",
     "text": [
      "The scikit-learn version is 1.0.2.\n"
     ]
    }
   ],
   "source": [
    "import sklearn\n",
    "print('The scikit-learn version is {}.'.format(sklearn.__version__))"
   ]
  },
  {
   "cell_type": "code",
   "execution_count": 2,
   "id": "3933c6a8",
   "metadata": {},
   "outputs": [
    {
     "data": {
      "text/html": [
       "<div>\n",
       "<style scoped>\n",
       "    .dataframe tbody tr th:only-of-type {\n",
       "        vertical-align: middle;\n",
       "    }\n",
       "\n",
       "    .dataframe tbody tr th {\n",
       "        vertical-align: top;\n",
       "    }\n",
       "\n",
       "    .dataframe thead th {\n",
       "        text-align: right;\n",
       "    }\n",
       "</style>\n",
       "<table border=\"1\" class=\"dataframe\">\n",
       "  <thead>\n",
       "    <tr style=\"text-align: right;\">\n",
       "      <th></th>\n",
       "      <th>age</th>\n",
       "      <th>sex</th>\n",
       "      <th>cp</th>\n",
       "      <th>trtbps</th>\n",
       "      <th>chol</th>\n",
       "      <th>fbs</th>\n",
       "      <th>restecg</th>\n",
       "      <th>thalachh</th>\n",
       "      <th>exng</th>\n",
       "      <th>oldpeak</th>\n",
       "      <th>slp</th>\n",
       "      <th>caa</th>\n",
       "      <th>thall</th>\n",
       "      <th>output</th>\n",
       "    </tr>\n",
       "  </thead>\n",
       "  <tbody>\n",
       "    <tr>\n",
       "      <th>0</th>\n",
       "      <td>63</td>\n",
       "      <td>1</td>\n",
       "      <td>3</td>\n",
       "      <td>145</td>\n",
       "      <td>233</td>\n",
       "      <td>1</td>\n",
       "      <td>0</td>\n",
       "      <td>150</td>\n",
       "      <td>0</td>\n",
       "      <td>2.3</td>\n",
       "      <td>0</td>\n",
       "      <td>0</td>\n",
       "      <td>1</td>\n",
       "      <td>1</td>\n",
       "    </tr>\n",
       "    <tr>\n",
       "      <th>1</th>\n",
       "      <td>37</td>\n",
       "      <td>1</td>\n",
       "      <td>2</td>\n",
       "      <td>130</td>\n",
       "      <td>250</td>\n",
       "      <td>0</td>\n",
       "      <td>1</td>\n",
       "      <td>187</td>\n",
       "      <td>0</td>\n",
       "      <td>3.5</td>\n",
       "      <td>0</td>\n",
       "      <td>0</td>\n",
       "      <td>2</td>\n",
       "      <td>1</td>\n",
       "    </tr>\n",
       "    <tr>\n",
       "      <th>2</th>\n",
       "      <td>41</td>\n",
       "      <td>0</td>\n",
       "      <td>1</td>\n",
       "      <td>130</td>\n",
       "      <td>204</td>\n",
       "      <td>0</td>\n",
       "      <td>0</td>\n",
       "      <td>172</td>\n",
       "      <td>0</td>\n",
       "      <td>1.4</td>\n",
       "      <td>2</td>\n",
       "      <td>0</td>\n",
       "      <td>2</td>\n",
       "      <td>1</td>\n",
       "    </tr>\n",
       "    <tr>\n",
       "      <th>3</th>\n",
       "      <td>56</td>\n",
       "      <td>1</td>\n",
       "      <td>1</td>\n",
       "      <td>120</td>\n",
       "      <td>236</td>\n",
       "      <td>0</td>\n",
       "      <td>1</td>\n",
       "      <td>178</td>\n",
       "      <td>0</td>\n",
       "      <td>0.8</td>\n",
       "      <td>2</td>\n",
       "      <td>0</td>\n",
       "      <td>2</td>\n",
       "      <td>1</td>\n",
       "    </tr>\n",
       "    <tr>\n",
       "      <th>4</th>\n",
       "      <td>57</td>\n",
       "      <td>0</td>\n",
       "      <td>0</td>\n",
       "      <td>120</td>\n",
       "      <td>354</td>\n",
       "      <td>0</td>\n",
       "      <td>1</td>\n",
       "      <td>163</td>\n",
       "      <td>1</td>\n",
       "      <td>0.6</td>\n",
       "      <td>2</td>\n",
       "      <td>0</td>\n",
       "      <td>2</td>\n",
       "      <td>1</td>\n",
       "    </tr>\n",
       "  </tbody>\n",
       "</table>\n",
       "</div>"
      ],
      "text/plain": [
       "   age  sex  cp  trtbps  chol  fbs  restecg  thalachh  exng  oldpeak  slp  \\\n",
       "0   63    1   3     145   233    1        0       150     0      2.3    0   \n",
       "1   37    1   2     130   250    0        1       187     0      3.5    0   \n",
       "2   41    0   1     130   204    0        0       172     0      1.4    2   \n",
       "3   56    1   1     120   236    0        1       178     0      0.8    2   \n",
       "4   57    0   0     120   354    0        1       163     1      0.6    2   \n",
       "\n",
       "   caa  thall  output  \n",
       "0    0      1       1  \n",
       "1    0      2       1  \n",
       "2    0      2       1  \n",
       "3    0      2       1  \n",
       "4    0      2       1  "
      ]
     },
     "execution_count": 2,
     "metadata": {},
     "output_type": "execute_result"
    }
   ],
   "source": [
    "df=pd.read_csv(\"heart.csv\")\n",
    "df.head(5)"
   ]
  },
  {
   "cell_type": "code",
   "execution_count": 4,
   "id": "b6d0fd94",
   "metadata": {},
   "outputs": [
    {
     "data": {
      "text/plain": [
       "Index(['age', 'sex', 'cp', 'trtbps', 'chol', 'fbs', 'restecg', 'thalachh',\n",
       "       'exng', 'oldpeak', 'slp', 'caa', 'thall', 'output'],\n",
       "      dtype='object')"
      ]
     },
     "execution_count": 4,
     "metadata": {},
     "output_type": "execute_result"
    }
   ],
   "source": [
    "df.columns"
   ]
  },
  {
   "cell_type": "code",
   "execution_count": 3,
   "id": "3132c519",
   "metadata": {},
   "outputs": [
    {
     "data": {
      "text/plain": [
       "age         0\n",
       "sex         0\n",
       "cp          0\n",
       "trtbps      0\n",
       "chol        0\n",
       "fbs         0\n",
       "restecg     0\n",
       "thalachh    0\n",
       "exng        0\n",
       "oldpeak     0\n",
       "slp         0\n",
       "caa         0\n",
       "thall       0\n",
       "output      0\n",
       "dtype: int64"
      ]
     },
     "execution_count": 3,
     "metadata": {},
     "output_type": "execute_result"
    }
   ],
   "source": [
    "df.isnull().sum()"
   ]
  },
  {
   "cell_type": "code",
   "execution_count": 4,
   "id": "27f52c81",
   "metadata": {},
   "outputs": [],
   "source": [
    "cols = df.columns"
   ]
  },
  {
   "cell_type": "code",
   "execution_count": 5,
   "id": "3b18bef5",
   "metadata": {},
   "outputs": [
    {
     "name": "stdout",
     "output_type": "stream",
     "text": [
      "age : 41\n",
      "sex : 2\n",
      "cp : 4\n",
      "trtbps : 49\n",
      "chol : 152\n",
      "fbs : 2\n",
      "restecg : 3\n",
      "thalachh : 91\n",
      "exng : 2\n",
      "oldpeak : 40\n",
      "slp : 3\n",
      "caa : 5\n",
      "thall : 4\n",
      "output : 2\n"
     ]
    }
   ],
   "source": [
    "for col in cols:\n",
    "    print(col, \":\", df[col].nunique())"
   ]
  },
  {
   "cell_type": "code",
   "execution_count": 6,
   "id": "f76bcf8a",
   "metadata": {},
   "outputs": [],
   "source": [
    "cat_cols = ['sex','exng','caa','cp','fbs','restecg','slp','thall']\n",
    "num_cols = [\"age\",\"trtbps\",\"chol\",\"thalachh\",\"oldpeak\"]\n",
    "target_col = [\"output\"]"
   ]
  },
  {
   "cell_type": "code",
   "execution_count": 7,
   "id": "83513285",
   "metadata": {},
   "outputs": [
    {
     "data": {
      "text/plain": [
       "(242, 61)"
      ]
     },
     "execution_count": 7,
     "metadata": {},
     "output_type": "execute_result"
    }
   ],
   "source": [
    "from sklearn.model_selection import train_test_split\n",
    "\n",
    "df_train, df_test = train_test_split(df, test_size=0.2, random_state=1)\n",
    "len(df_train), len(df_test)"
   ]
  },
  {
   "cell_type": "code",
   "execution_count": 8,
   "id": "2ee76df9",
   "metadata": {},
   "outputs": [],
   "source": [
    "df_train = df_train.reset_index(drop=True)\n",
    "df_test = df_test.reset_index(drop=True)\n",
    "\n",
    "y_train = df_train.output.values\n",
    "y_test = df_test.output.values\n",
    "\n",
    "del df_train['output']\n",
    "del df_test['output']"
   ]
  },
  {
   "cell_type": "code",
   "execution_count": 9,
   "id": "94cd80a2",
   "metadata": {},
   "outputs": [],
   "source": [
    "from sklearn.feature_extraction import DictVectorizer\n",
    "\n",
    "dv = DictVectorizer(sparse=False)\n",
    "\n",
    "train_dict = df_train.to_dict(orient='records')\n",
    "X_train = dv.fit_transform(train_dict)"
   ]
  },
  {
   "cell_type": "markdown",
   "id": "ed3e4d37",
   "metadata": {},
   "source": [
    "# Logistic Regression"
   ]
  },
  {
   "cell_type": "code",
   "execution_count": 10,
   "id": "c6812c3d",
   "metadata": {},
   "outputs": [],
   "source": [
    "from sklearn.linear_model import LogisticRegression, LogisticRegressionCV"
   ]
  },
  {
   "cell_type": "code",
   "execution_count": 11,
   "id": "ae536719",
   "metadata": {},
   "outputs": [],
   "source": [
    "from sklearn.model_selection import GridSearchCV\n",
    "\n",
    "import warnings\n",
    "warnings.filterwarnings('ignore')\n",
    "\n",
    "parameters = {\n",
    "    'penalty' : ['l1','l2'], \n",
    "    'C'       : np.logspace(-10,10,2),\n",
    "    'solver'  : ['newton-cg', 'lbfgs', 'liblinear'],\n",
    "}\n",
    "\n",
    "model_logreg = LogisticRegression()"
   ]
  },
  {
   "cell_type": "code",
   "execution_count": 113,
   "id": "ef4cee0f",
   "metadata": {},
   "outputs": [
    {
     "name": "stdout",
     "output_type": "stream",
     "text": [
      "Tuned Hyperparameters : {'C': 10000000000.0, 'penalty': 'l2', 'solver': 'lbfgs'}\n",
      "accuracy : 0.8516666666666666\n",
      "________________________\n",
      "Tuned Hyperparameters : {'C': 10000000000.0, 'penalty': 'l2', 'solver': 'lbfgs'}\n",
      "f1 : 0.8725802150718724\n",
      "________________________\n",
      "Tuned Hyperparameters : {'C': 10000000000.0, 'penalty': 'l2', 'solver': 'lbfgs'}\n",
      "roc_auc : 0.9257692307692308\n",
      "________________________\n"
     ]
    }
   ],
   "source": [
    "scorings_list = ['accuracy', 'f1', 'roc_auc']\n",
    "for scoring in scorings_list:\n",
    "    clf = GridSearchCV(model_logreg,\n",
    "                       param_grid = parameters,\n",
    "                       scoring=scoring,\n",
    "                       cv=10) \n",
    "    clf.fit(X_train,y_train)\n",
    "    print(\"Tuned Hyperparameters :\", clf.best_params_)\n",
    "    print(f\"{scoring} :\",clf.best_score_)\n",
    "    print(\"________________________\")"
   ]
  },
  {
   "cell_type": "code",
   "execution_count": 13,
   "id": "8ef2706f",
   "metadata": {},
   "outputs": [],
   "source": [
    "# import sklearn\n",
    "# sorted(sklearn.metrics.SCORERS.keys())"
   ]
  },
  {
   "cell_type": "markdown",
   "id": "51180d28",
   "metadata": {},
   "source": [
    "# Random Forest"
   ]
  },
  {
   "cell_type": "code",
   "execution_count": 91,
   "id": "182f9da6",
   "metadata": {},
   "outputs": [],
   "source": [
    "from sklearn.model_selection import KFold\n",
    "from sklearn.ensemble import RandomForestClassifier\n",
    "from tqdm.notebook import tqdm\n",
    "from sklearn.metrics import roc_auc_score, accuracy_score"
   ]
  },
  {
   "cell_type": "code",
   "execution_count": 18,
   "id": "b6836a07",
   "metadata": {},
   "outputs": [
    {
     "data": {
      "application/vnd.jupyter.widget-view+json": {
       "model_id": "321c7ce3311f4b72b7a0779cde876a77",
       "version_major": 2,
       "version_minor": 0
      },
      "text/plain": [
       "  0%|          | 0/5 [00:00<?, ?it/s]"
      ]
     },
     "metadata": {},
     "output_type": "display_data"
    },
    {
     "data": {
      "application/vnd.jupyter.widget-view+json": {
       "model_id": "",
       "version_major": 2,
       "version_minor": 0
      },
      "text/plain": [
       "  0%|          | 0/100 [00:00<?, ?it/s]"
      ]
     },
     "metadata": {},
     "output_type": "display_data"
    },
    {
     "data": {
      "application/vnd.jupyter.widget-view+json": {
       "model_id": "",
       "version_major": 2,
       "version_minor": 0
      },
      "text/plain": [
       "  0%|          | 0/100 [00:00<?, ?it/s]"
      ]
     },
     "metadata": {},
     "output_type": "display_data"
    },
    {
     "data": {
      "application/vnd.jupyter.widget-view+json": {
       "model_id": "",
       "version_major": 2,
       "version_minor": 0
      },
      "text/plain": [
       "  0%|          | 0/100 [00:00<?, ?it/s]"
      ]
     },
     "metadata": {},
     "output_type": "display_data"
    },
    {
     "data": {
      "application/vnd.jupyter.widget-view+json": {
       "model_id": "",
       "version_major": 2,
       "version_minor": 0
      },
      "text/plain": [
       "  0%|          | 0/100 [00:00<?, ?it/s]"
      ]
     },
     "metadata": {},
     "output_type": "display_data"
    },
    {
     "data": {
      "application/vnd.jupyter.widget-view+json": {
       "model_id": "",
       "version_major": 2,
       "version_minor": 0
      },
      "text/plain": [
       "  0%|          | 0/100 [00:00<?, ?it/s]"
      ]
     },
     "metadata": {},
     "output_type": "display_data"
    }
   ],
   "source": [
    "max_trees = 100\n",
    "\n",
    "values = np.arange(max_trees) + 1\n",
    "\n",
    "kf = KFold(n_splits=5, shuffle=True, random_state=1234)\n",
    "\n",
    "global_scores = []\n",
    "\n",
    "for train_indices, test_indices in tqdm(kf.split(X_train), total=5):\n",
    "    scores = []\n",
    "    \n",
    "    X_train_kf = X_train[train_indices]\n",
    "    y_train_kf = y_train[train_indices]\n",
    "\n",
    "    X_test_kf = X_train[test_indices]\n",
    "    y_test_kf = y_train[test_indices]\n",
    "    \n",
    "    forest = RandomForestClassifier(n_estimators=max_trees)\n",
    "    forest.fit(X_train_kf, y_train_kf)\n",
    "    trees = forest.estimators_\n",
    "    \n",
    "    for number_of_trees in tqdm(values, leave=False):\n",
    "        tuned_forest = RandomForestClassifier(n_estimators=number_of_trees)\n",
    "        \n",
    "        tuned_forest.n_classes_ = 2\n",
    "        tuned_forest.estimators_ = trees[:number_of_trees]\n",
    "\n",
    "        scores.append(roc_auc_score(y_test_kf, tuned_forest.predict_proba(X_test_kf)[:, 1]))\n",
    "    \n",
    "    scores = np.array(scores)\n",
    "    \n",
    "    global_scores.append(scores)\n",
    "\n",
    "global_scores = np.stack(global_scores, axis=0)"
   ]
  },
  {
   "cell_type": "code",
   "execution_count": 20,
   "id": "95551a6d",
   "metadata": {},
   "outputs": [
    {
     "data": {
      "image/png": "[encoded data removed]",
      "text/plain": [
       "<Figure size 1080x576 with 1 Axes>"
      ]
     },
     "metadata": {
      "needs_background": "light"
     },
     "output_type": "display_data"
    }
   ],
   "source": [
    "mean_cross_val_score = global_scores.mean(axis=0)\n",
    "\n",
    "plt.figure(figsize=(15,8))\n",
    "plt.title('Random forest')\n",
    "\n",
    "plt.plot(values, \n",
    "         mean_cross_val_score, \n",
    "         label='mean values', \n",
    "         color='red', \n",
    "         lw=3)\n",
    "\n",
    "plt.xlabel('number of trees')\n",
    "plt.ylabel('roc-auc')\n",
    "plt.show()"
   ]
  },
  {
   "cell_type": "markdown",
   "id": "65504546",
   "metadata": {},
   "source": [
    "# Tuned Random Forest"
   ]
  },
  {
   "cell_type": "code",
   "execution_count": 25,
   "id": "08080718",
   "metadata": {},
   "outputs": [],
   "source": [
    "from sklearn.model_selection import RandomizedSearchCV"
   ]
  },
  {
   "cell_type": "code",
   "execution_count": 118,
   "id": "dd396a04",
   "metadata": {},
   "outputs": [
    {
     "data": {
      "text/plain": [
       "GridSearchCV(cv=5, estimator=RandomForestClassifier(),\n",
       "             param_grid={'criterion': ['gini', 'entropy'],\n",
       "                         'max_depth': array([1.]),\n",
       "                         'max_features': ['sqrt', 'log2', 'auto'],\n",
       "                         'n_estimators': array([ 100,  200,  300,  400,  500,  600,  700,  800,  900, 1000])},\n",
       "             scoring='roc_auc')"
      ]
     },
     "execution_count": 118,
     "metadata": {},
     "output_type": "execute_result"
    }
   ],
   "source": [
    "grid = { \n",
    "    'n_estimators': np.linspace(100,1000,10, dtype=int),\n",
    "    'max_features': ['sqrt', 'log2', 'auto'],\n",
    "    'max_depth' : np.linspace(1,100,1),\n",
    "    'criterion' :['gini', 'entropy']\n",
    "}\n",
    "rf_cv = GridSearchCV(estimator=RandomForestClassifier(), param_grid=grid, scoring='roc_auc',cv= 5)\n",
    "rf_cv.fit(X_train, y_train)"
   ]
  },
  {
   "cell_type": "code",
   "execution_count": 121,
   "id": "f4b7c605",
   "metadata": {},
   "outputs": [
    {
     "data": {
      "text/plain": [
       "({'criterion': 'gini',\n",
       "  'max_depth': 1.0,\n",
       "  'max_features': 'sqrt',\n",
       "  'n_estimators': 300},\n",
       " 0.9156843156843157)"
      ]
     },
     "execution_count": 121,
     "metadata": {},
     "output_type": "execute_result"
    }
   ],
   "source": [
    "rf_cv.best_params_, rf_cv.best_score_"
   ]
  },
  {
   "cell_type": "code",
   "execution_count": 131,
   "id": "a65cab16",
   "metadata": {},
   "outputs": [
    {
     "name": "stdout",
     "output_type": "stream",
     "text": [
      "roc_auc_score 0.7683066361556065\n",
      "accuracy_score 0.7540983606557377\n"
     ]
    }
   ],
   "source": [
    "# rf_best = RandomForestClassifier(criterion='gini',max_depth=65,max_features='sqrt',n_estimators=200)\n",
    "rf_best = RandomForestClassifier(criterion='gini',max_depth=1,max_features='sqrt',n_estimators=300)\n",
    "rf_best.fit(X_train, y_train)\n",
    "\n",
    "dv = DictVectorizer(sparse=False)\n",
    "test_dict = df_test.to_dict(orient='records')\n",
    "X_test = dv.fit_transform(test_dict)\n",
    "\n",
    "y_pred = rf_best.predict(X_test)\n",
    "print(\"roc_auc_score\",roc_auc_score(y_pred, y_test))\n",
    "print(\"accuracy_score\",accuracy_score(y_pred, y_test))"
   ]
  },
  {
   "cell_type": "markdown",
   "id": "8bbffaed",
   "metadata": {},
   "source": [
    "# Pickle"
   ]
  },
  {
   "cell_type": "code",
   "execution_count": 132,
   "id": "c16c8caf",
   "metadata": {},
   "outputs": [],
   "source": [
    "import pickle\n"
   ]
  },
  {
   "cell_type": "code",
   "execution_count": 134,
   "id": "164bf47b",
   "metadata": {},
   "outputs": [],
   "source": [
    "output_file = 'model.bin'"
   ]
  },
  {
   "cell_type": "code",
   "execution_count": 135,
   "id": "cc8df6f4",
   "metadata": {},
   "outputs": [],
   "source": [
    "f_out = open(output_file,'wb')\n",
    "pickle.dump((dv, rf_best),f_out)\n",
    "f_out.close()"
   ]
  },
  {
   "cell_type": "code",
   "execution_count": 1,
   "id": "e8cc5c7c",
   "metadata": {},
   "outputs": [],
   "source": [
    "import pickle"
   ]
  },
  {
   "cell_type": "code",
   "execution_count": 2,
   "id": "91508712",
   "metadata": {},
   "outputs": [],
   "source": [
    "model_file = 'model.bin'"
   ]
  },
  {
   "cell_type": "code",
   "execution_count": 3,
   "id": "7c2eac58",
   "metadata": {},
   "outputs": [],
   "source": [
    "with open (model_file, 'rb') as f_in:\n",
    "    dv, model = pickle.load(f_in)"
   ]
  },
  {
   "cell_type": "code",
   "execution_count": 4,
   "id": "d41f753f",
   "metadata": {},
   "outputs": [
    {
     "data": {
      "text/plain": [
       "(DictVectorizer(sparse=False),\n",
       " RandomForestClassifier(max_depth=1, max_features='sqrt', n_estimators=300))"
      ]
     },
     "execution_count": 4,
     "metadata": {},
     "output_type": "execute_result"
    }
   ],
   "source": [
    "dv, model"
   ]
  },
  {
   "cell_type": "code",
   "execution_count": 5,
   "id": "31660be1",
   "metadata": {},
   "outputs": [],
   "source": [
    "analysis = {\n",
    "    'age':13,\n",
    "    'sex':1,\n",
    "    'cp':3,\n",
    "    'trtbps':145,\n",
    "    'chol':233,\n",
    "    'fbs':1,\n",
    "    'restecg':0,\n",
    "    'thalachh':150,\n",
    "    'exng':0,\n",
    "    'oldpeak':2.3,\n",
    "    'slp':0,\n",
    "    'caa':0,\n",
    "    'thall':1,\n",
    "    'output':1\n",
    "\n",
    "}"
   ]
  },
  {
   "cell_type": "code",
   "execution_count": 8,
   "id": "e3747a54",
   "metadata": {},
   "outputs": [],
   "source": [
    "X = dv.transform(analysis)"
   ]
  },
  {
   "cell_type": "code",
   "execution_count": 11,
   "id": "e2f88216",
   "metadata": {},
   "outputs": [
    {
     "data": {
      "text/plain": [
       "0.6486095686255042"
      ]
     },
     "execution_count": 11,
     "metadata": {},
     "output_type": "execute_result"
    }
   ],
   "source": [
    "model.predict_proba(X)[0,1]"
   ]
  },
  {
   "cell_type": "code",
   "execution_count": null,
   "id": "03e46e0a",
   "metadata": {},
   "outputs": [],
   "source": []
  }
 ],
 "metadata": {
  "kernelspec": {
   "display_name": "Python 3 (ipykernel)",
   "language": "python",
   "name": "python3"
  },
  "language_info": {
   "codemirror_mode": {
    "name": "ipython",
    "version": 3
   },
   "file_extension": ".py",
   "mimetype": "text/x-python",
   "name": "python",
   "nbconvert_exporter": "python",
   "pygments_lexer": "ipython3",
   "version": "3.9.12"
  }
 },
 "nbformat": 4,
 "nbformat_minor": 5
}
